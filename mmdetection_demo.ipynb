{
  "nbformat": 4,
  "nbformat_minor": 0,
  "metadata": {
    "colab": {
      "name": "mmdetection_demo.ipynb",
      "provenance": [],
      "toc_visible": true,
      "authorship_tag": "ABX9TyPKO/bZr5LLJeA+0LvoWUka",
      "include_colab_link": true
    },
    "kernelspec": {
      "name": "python3",
      "display_name": "Python 3"
    },
    "accelerator": "GPU"
  },
  "cells": [
    {
      "cell_type": "markdown",
      "metadata": {
        "id": "view-in-github",
        "colab_type": "text"
      },
      "source": [
        "<a href=\"https://colab.research.google.com/github/fengyouliang/wheat_detection/blob/master/mmdetection_demo.ipynb\" target=\"_parent\"><img src=\"https://colab.research.google.com/assets/colab-badge.svg\" alt=\"Open In Colab\"/></a>"
      ]
    },
    {
      "cell_type": "code",
      "metadata": {
        "id": "byTw_PGZLOjK",
        "colab_type": "code",
        "colab": {
          "base_uri": "https://localhost:8080/",
          "height": 173
        },
        "outputId": "03302953-4cff-4ee9-e384-8ce79d0cb1f6"
      },
      "source": [
        "import sys\n",
        "sys.path"
      ],
      "execution_count": 8,
      "outputs": [
        {
          "output_type": "execute_result",
          "data": {
            "text/plain": [
              "['',\n",
              " '/env/python',\n",
              " '/usr/lib/python36.zip',\n",
              " '/usr/lib/python3.6',\n",
              " '/usr/lib/python3.6/lib-dynload',\n",
              " '/usr/local/lib/python3.6/dist-packages',\n",
              " '/usr/lib/python3/dist-packages',\n",
              " '/usr/local/lib/python3.6/dist-packages/IPython/extensions',\n",
              " '/root/.ipython']"
            ]
          },
          "metadata": {
            "tags": []
          },
          "execution_count": 8
        }
      ]
    },
    {
      "cell_type": "code",
      "metadata": {
        "id": "syBRI8dPJpkS",
        "colab_type": "code",
        "colab": {
          "base_uri": "https://localhost:8080/",
          "height": 380
        },
        "outputId": "5c10d192-1493-4693-c343-2129ec64d617"
      },
      "source": [
        "!cat /usr/local/cuda/version.txt\n",
        "!nvidia-smi"
      ],
      "execution_count": 1,
      "outputs": [
        {
          "output_type": "stream",
          "text": [
            "CUDA Version 10.1.243\n",
            "Sat Jul 18 13:44:50 2020       \n",
            "+-----------------------------------------------------------------------------+\n",
            "| NVIDIA-SMI 450.51.05    Driver Version: 418.67       CUDA Version: 10.1     |\n",
            "|-------------------------------+----------------------+----------------------+\n",
            "| GPU  Name        Persistence-M| Bus-Id        Disp.A | Volatile Uncorr. ECC |\n",
            "| Fan  Temp  Perf  Pwr:Usage/Cap|         Memory-Usage | GPU-Util  Compute M. |\n",
            "|                               |                      |               MIG M. |\n",
            "|===============================+======================+======================|\n",
            "|   0  Tesla K80           Off  | 00000000:00:04.0 Off |                    0 |\n",
            "| N/A   34C    P8    29W / 149W |      0MiB / 11441MiB |      0%      Default |\n",
            "|                               |                      |                 ERR! |\n",
            "+-------------------------------+----------------------+----------------------+\n",
            "                                                                               \n",
            "+-----------------------------------------------------------------------------+\n",
            "| Processes:                                                                  |\n",
            "|  GPU   GI   CI        PID   Type   Process name                  GPU Memory |\n",
            "|        ID   ID                                                   Usage      |\n",
            "|=============================================================================|\n",
            "|  No running processes found                                                 |\n",
            "+-----------------------------------------------------------------------------+\n"
          ],
          "name": "stdout"
        }
      ]
    },
    {
      "cell_type": "code",
      "metadata": {
        "id": "_PC6A1fXEzXK",
        "colab_type": "code",
        "colab": {
          "base_uri": "https://localhost:8080/",
          "height": 138
        },
        "outputId": "fd1c0518-2da5-4053-eeb5-4d684e34ded0"
      },
      "source": [
        "!rm -rf mmdetection\n",
        "!git clone https://github.com/open-mmlab/mmdetection.git"
      ],
      "execution_count": 2,
      "outputs": [
        {
          "output_type": "stream",
          "text": [
            "Cloning into 'mmdetection'...\n",
            "remote: Enumerating objects: 9, done.\u001b[K\n",
            "remote: Counting objects: 100% (9/9), done.\u001b[K\n",
            "remote: Compressing objects: 100% (9/9), done.\u001b[K\n",
            "remote: Total 12264 (delta 0), reused 0 (delta 0), pack-reused 12255\u001b[K\n",
            "Receiving objects: 100% (12264/12264), 11.42 MiB | 7.21 MiB/s, done.\n",
            "Resolving deltas: 100% (8403/8403), done.\n"
          ],
          "name": "stdout"
        }
      ]
    },
    {
      "cell_type": "code",
      "metadata": {
        "id": "WwfvtFurKOnc",
        "colab_type": "code",
        "colab": {
          "base_uri": "https://localhost:8080/",
          "height": 35
        },
        "outputId": "c442a205-e27a-4d63-8272-294c8bdec834"
      },
      "source": [
        "cd mmdetection"
      ],
      "execution_count": 3,
      "outputs": [
        {
          "output_type": "stream",
          "text": [
            "/content/mmdetection\n"
          ],
          "name": "stdout"
        }
      ]
    },
    {
      "cell_type": "code",
      "metadata": {
        "id": "UprNDDzLE7NI",
        "colab_type": "code",
        "colab": {
          "base_uri": "https://localhost:8080/",
          "height": 1000
        },
        "outputId": "0dede5ca-5d9f-410d-86ac-79b86b4beed3"
      },
      "source": [
        "!pip install torch==1.5.1+cu101 torchvision==0.6.1+cu101 -f https://download.pytorch.org/whl/torch_stable.html\n",
        "!pip install mmcv-full==latest+torch1.5.0+cu101 -f https://openmmlab.oss-accelerate.aliyuncs.com/mmcv/dist/index.html\n",
        "!pip install -r requirements.txt\n",
        "!pip install -e ."
      ],
      "execution_count": 4,
      "outputs": [
        {
          "output_type": "stream",
          "text": [
            "Looking in links: https://download.pytorch.org/whl/torch_stable.html\n",
            "Requirement already satisfied: torch==1.5.1+cu101 in /usr/local/lib/python3.6/dist-packages (1.5.1+cu101)\n",
            "Requirement already satisfied: torchvision==0.6.1+cu101 in /usr/local/lib/python3.6/dist-packages (0.6.1+cu101)\n",
            "Requirement already satisfied: future in /usr/local/lib/python3.6/dist-packages (from torch==1.5.1+cu101) (0.16.0)\n",
            "Requirement already satisfied: numpy in /usr/local/lib/python3.6/dist-packages (from torch==1.5.1+cu101) (1.18.5)\n",
            "Requirement already satisfied: pillow>=4.1.1 in /usr/local/lib/python3.6/dist-packages (from torchvision==0.6.1+cu101) (6.2.2)\n",
            "Looking in links: https://openmmlab.oss-accelerate.aliyuncs.com/mmcv/dist/index.html\n",
            "Collecting mmcv-full==latest+torch1.5.0+cu101\n",
            "  Using cached https://openmmlab.oss-accelerate.aliyuncs.com/mmcv/dist/latest/torch1.5.0/cu101/mmcv_full-latest%2Btorch1.5.0%2Bcu101-cp36-cp36m-manylinux1_x86_64.whl\n",
            "Requirement already satisfied: pyyaml in /usr/local/lib/python3.6/dist-packages (from mmcv-full==latest+torch1.5.0+cu101) (3.13)\n",
            "Requirement already satisfied: numpy in /usr/local/lib/python3.6/dist-packages (from mmcv-full==latest+torch1.5.0+cu101) (1.18.5)\n",
            "Requirement already satisfied: addict in /usr/local/lib/python3.6/dist-packages (from mmcv-full==latest+torch1.5.0+cu101) (2.2.1)\n",
            "Requirement already satisfied: opencv-python>=3 in /usr/local/lib/python3.6/dist-packages (from mmcv-full==latest+torch1.5.0+cu101) (4.1.2.30)\n",
            "Requirement already satisfied: yapf in /usr/local/lib/python3.6/dist-packages (from mmcv-full==latest+torch1.5.0+cu101) (0.30.0)\n",
            "Installing collected packages: mmcv-full\n",
            "  Found existing installation: mmcv-full 1.0.3\n",
            "    Uninstalling mmcv-full-1.0.3:\n",
            "      Successfully uninstalled mmcv-full-1.0.3\n",
            "Successfully installed mmcv-full-1.0.3\n",
            "Requirement already satisfied: cython in /usr/local/lib/python3.6/dist-packages (from -r requirements/build.txt (line 2)) (0.29.21)\n",
            "Requirement already satisfied: numpy in /usr/local/lib/python3.6/dist-packages (from -r requirements/build.txt (line 3)) (1.18.5)\n",
            "Requirement already satisfied: torch>=1.3 in /usr/local/lib/python3.6/dist-packages (from -r requirements/build.txt (line 4)) (1.5.1+cu101)\n",
            "Requirement already satisfied: albumentations>=0.3.2 in /usr/local/lib/python3.6/dist-packages (from -r requirements/optional.txt (line 1)) (0.4.6)\n",
            "Requirement already satisfied: cityscapesscripts in /usr/local/lib/python3.6/dist-packages (from -r requirements/optional.txt (line 2)) (1.5.0)\n",
            "Requirement already satisfied: imagecorruptions in /usr/local/lib/python3.6/dist-packages (from -r requirements/optional.txt (line 3)) (1.1.0)\n",
            "Requirement already satisfied: lvis@ git+https://github.com/open-mmlab/cocoapi.git#subdirectory=lvis from git+https://github.com/open-mmlab/cocoapi.git#subdirectory=lvis in /usr/local/lib/python3.6/dist-packages (from -r requirements/optional.txt (line 4)) (10.5.2)\n",
            "Requirement already satisfied: matplotlib in /usr/local/lib/python3.6/dist-packages (from -r requirements/runtime.txt (line 1)) (3.2.2)\n",
            "Requirement already satisfied: Pillow<=6.2.2 in /usr/local/lib/python3.6/dist-packages (from -r requirements/runtime.txt (line 4)) (6.2.2)\n",
            "Requirement already satisfied: six in /usr/local/lib/python3.6/dist-packages (from -r requirements/runtime.txt (line 5)) (1.12.0)\n",
            "Requirement already satisfied: terminaltables in /usr/local/lib/python3.6/dist-packages (from -r requirements/runtime.txt (line 6)) (3.1.0)\n",
            "Requirement already satisfied: torchvision in /usr/local/lib/python3.6/dist-packages (from -r requirements/runtime.txt (line 8)) (0.6.1+cu101)\n",
            "Requirement already satisfied: pycocotools@ git+https://github.com/open-mmlab/cocoapi.git#subdirectory=pycocotools from git+https://github.com/open-mmlab/cocoapi.git#subdirectory=pycocotools in /usr/local/lib/python3.6/dist-packages (from -r requirements/runtime.txt (line 9)) (2.0.1)\n",
            "Requirement already satisfied: asynctest in /usr/local/lib/python3.6/dist-packages (from -r requirements/tests.txt (line 1)) (0.13.0)\n",
            "Requirement already satisfied: codecov in /usr/local/lib/python3.6/dist-packages (from -r requirements/tests.txt (line 2)) (2.1.8)\n",
            "Requirement already satisfied: flake8 in /usr/local/lib/python3.6/dist-packages (from -r requirements/tests.txt (line 3)) (3.8.3)\n",
            "Requirement already satisfied: interrogate in /usr/local/lib/python3.6/dist-packages (from -r requirements/tests.txt (line 4)) (1.2.0)\n",
            "Requirement already satisfied: isort==4.3.21 in /usr/local/lib/python3.6/dist-packages (from -r requirements/tests.txt (line 5)) (4.3.21)\n",
            "Requirement already satisfied: kwarray in /usr/local/lib/python3.6/dist-packages (from -r requirements/tests.txt (line 7)) (0.5.9)\n",
            "Requirement already satisfied: pytest in /usr/local/lib/python3.6/dist-packages (from -r requirements/tests.txt (line 8)) (3.6.4)\n",
            "Requirement already satisfied: ubelt in /usr/local/lib/python3.6/dist-packages (from -r requirements/tests.txt (line 9)) (0.9.1)\n",
            "Requirement already satisfied: xdoctest>=0.10.0 in /usr/local/lib/python3.6/dist-packages (from -r requirements/tests.txt (line 10)) (0.13.0)\n",
            "Requirement already satisfied: yapf in /usr/local/lib/python3.6/dist-packages (from -r requirements/tests.txt (line 11)) (0.30.0)\n",
            "Requirement already satisfied: future in /usr/local/lib/python3.6/dist-packages (from torch>=1.3->-r requirements/build.txt (line 4)) (0.16.0)\n",
            "Requirement already satisfied: scipy in /usr/local/lib/python3.6/dist-packages (from albumentations>=0.3.2->-r requirements/optional.txt (line 1)) (1.4.1)\n",
            "Requirement already satisfied: imgaug>=0.4.0 in /usr/local/lib/python3.6/dist-packages (from albumentations>=0.3.2->-r requirements/optional.txt (line 1)) (0.4.0)\n",
            "Requirement already satisfied: PyYAML in /usr/local/lib/python3.6/dist-packages (from albumentations>=0.3.2->-r requirements/optional.txt (line 1)) (3.13)\n",
            "Requirement already satisfied: opencv-python>=4.1.1 in /usr/local/lib/python3.6/dist-packages (from albumentations>=0.3.2->-r requirements/optional.txt (line 1)) (4.1.2.30)\n",
            "Requirement already satisfied: appdirs in /usr/local/lib/python3.6/dist-packages (from cityscapesscripts->-r requirements/optional.txt (line 2)) (1.4.4)\n",
            "Requirement already satisfied: scikit-image>=0.15 in /usr/local/lib/python3.6/dist-packages (from imagecorruptions->-r requirements/optional.txt (line 3)) (0.16.2)\n",
            "Requirement already satisfied: pyparsing>=2.4.0 in /usr/local/lib/python3.6/dist-packages (from lvis@ git+https://github.com/open-mmlab/cocoapi.git#subdirectory=lvis->-r requirements/optional.txt (line 4)) (2.4.7)\n",
            "Requirement already satisfied: kiwisolver>=1.1.0 in /usr/local/lib/python3.6/dist-packages (from lvis@ git+https://github.com/open-mmlab/cocoapi.git#subdirectory=lvis->-r requirements/optional.txt (line 4)) (1.2.0)\n",
            "Requirement already satisfied: python-dateutil>=2.8.0 in /usr/local/lib/python3.6/dist-packages (from lvis@ git+https://github.com/open-mmlab/cocoapi.git#subdirectory=lvis->-r requirements/optional.txt (line 4)) (2.8.1)\n",
            "Requirement already satisfied: cycler>=0.10.0 in /usr/local/lib/python3.6/dist-packages (from lvis@ git+https://github.com/open-mmlab/cocoapi.git#subdirectory=lvis->-r requirements/optional.txt (line 4)) (0.10.0)\n",
            "Requirement already satisfied: setuptools>=18.0 in /usr/local/lib/python3.6/dist-packages (from pycocotools@ git+https://github.com/open-mmlab/cocoapi.git#subdirectory=pycocotools->-r requirements/runtime.txt (line 9)) (49.1.0)\n",
            "Requirement already satisfied: coverage in /usr/local/lib/python3.6/dist-packages (from codecov->-r requirements/tests.txt (line 2)) (3.7.1)\n",
            "Requirement already satisfied: requests>=2.7.9 in /usr/local/lib/python3.6/dist-packages (from codecov->-r requirements/tests.txt (line 2)) (2.23.0)\n",
            "Requirement already satisfied: pycodestyle<2.7.0,>=2.6.0a1 in /usr/local/lib/python3.6/dist-packages (from flake8->-r requirements/tests.txt (line 3)) (2.6.0)\n",
            "Requirement already satisfied: importlib-metadata; python_version < \"3.8\" in /usr/local/lib/python3.6/dist-packages (from flake8->-r requirements/tests.txt (line 3)) (1.7.0)\n",
            "Requirement already satisfied: mccabe<0.7.0,>=0.6.0 in /usr/local/lib/python3.6/dist-packages (from flake8->-r requirements/tests.txt (line 3)) (0.6.1)\n",
            "Requirement already satisfied: pyflakes<2.3.0,>=2.2.0 in /usr/local/lib/python3.6/dist-packages (from flake8->-r requirements/tests.txt (line 3)) (2.2.0)\n",
            "Requirement already satisfied: click in /usr/local/lib/python3.6/dist-packages (from interrogate->-r requirements/tests.txt (line 4)) (7.1.2)\n",
            "Requirement already satisfied: attrs in /usr/local/lib/python3.6/dist-packages (from interrogate->-r requirements/tests.txt (line 4)) (19.3.0)\n",
            "Requirement already satisfied: colorama in /usr/local/lib/python3.6/dist-packages (from interrogate->-r requirements/tests.txt (line 4)) (0.4.3)\n",
            "Requirement already satisfied: py in /usr/local/lib/python3.6/dist-packages (from interrogate->-r requirements/tests.txt (line 4)) (1.9.0)\n",
            "Requirement already satisfied: toml in /usr/local/lib/python3.6/dist-packages (from interrogate->-r requirements/tests.txt (line 4)) (0.10.1)\n",
            "Requirement already satisfied: tabulate in /usr/local/lib/python3.6/dist-packages (from interrogate->-r requirements/tests.txt (line 4)) (0.8.7)\n",
            "Requirement already satisfied: pandas in /usr/local/lib/python3.6/dist-packages (from kwarray->-r requirements/tests.txt (line 7)) (1.0.5)\n",
            "Requirement already satisfied: atomicwrites>=1.0 in /usr/local/lib/python3.6/dist-packages (from pytest->-r requirements/tests.txt (line 8)) (1.4.0)\n",
            "Requirement already satisfied: more-itertools>=4.0.0 in /usr/local/lib/python3.6/dist-packages (from pytest->-r requirements/tests.txt (line 8)) (8.4.0)\n",
            "Requirement already satisfied: pluggy<0.8,>=0.5 in /usr/local/lib/python3.6/dist-packages (from pytest->-r requirements/tests.txt (line 8)) (0.7.1)\n",
            "Requirement already satisfied: ordered-set in /usr/local/lib/python3.6/dist-packages (from ubelt->-r requirements/tests.txt (line 9)) (4.0.2)\n",
            "Requirement already satisfied: Shapely in /usr/local/lib/python3.6/dist-packages (from imgaug>=0.4.0->albumentations>=0.3.2->-r requirements/optional.txt (line 1)) (1.7.0)\n",
            "Requirement already satisfied: imageio in /usr/local/lib/python3.6/dist-packages (from imgaug>=0.4.0->albumentations>=0.3.2->-r requirements/optional.txt (line 1)) (2.4.1)\n",
            "Requirement already satisfied: networkx>=2.0 in /usr/local/lib/python3.6/dist-packages (from scikit-image>=0.15->imagecorruptions->-r requirements/optional.txt (line 3)) (2.4)\n",
            "Requirement already satisfied: PyWavelets>=0.4.0 in /usr/local/lib/python3.6/dist-packages (from scikit-image>=0.15->imagecorruptions->-r requirements/optional.txt (line 3)) (1.1.1)\n",
            "Requirement already satisfied: chardet<4,>=3.0.2 in /usr/local/lib/python3.6/dist-packages (from requests>=2.7.9->codecov->-r requirements/tests.txt (line 2)) (3.0.4)\n",
            "Requirement already satisfied: idna<3,>=2.5 in /usr/local/lib/python3.6/dist-packages (from requests>=2.7.9->codecov->-r requirements/tests.txt (line 2)) (2.10)\n",
            "Requirement already satisfied: urllib3!=1.25.0,!=1.25.1,<1.26,>=1.21.1 in /usr/local/lib/python3.6/dist-packages (from requests>=2.7.9->codecov->-r requirements/tests.txt (line 2)) (1.24.3)\n",
            "Requirement already satisfied: certifi>=2017.4.17 in /usr/local/lib/python3.6/dist-packages (from requests>=2.7.9->codecov->-r requirements/tests.txt (line 2)) (2020.6.20)\n",
            "Requirement already satisfied: zipp>=0.5 in /usr/local/lib/python3.6/dist-packages (from importlib-metadata; python_version < \"3.8\"->flake8->-r requirements/tests.txt (line 3)) (3.1.0)\n",
            "Requirement already satisfied: pytz>=2017.2 in /usr/local/lib/python3.6/dist-packages (from pandas->kwarray->-r requirements/tests.txt (line 7)) (2018.9)\n",
            "Requirement already satisfied: decorator>=4.3.0 in /usr/local/lib/python3.6/dist-packages (from networkx>=2.0->scikit-image>=0.15->imagecorruptions->-r requirements/optional.txt (line 3)) (4.4.2)\n",
            "Obtaining file:///content/mmdetection\n",
            "Requirement already satisfied: matplotlib in /usr/local/lib/python3.6/dist-packages (from mmdet==2.3.0rc0+adc65ff) (3.2.2)\n",
            "Requirement already satisfied: numpy in /usr/local/lib/python3.6/dist-packages (from mmdet==2.3.0rc0+adc65ff) (1.18.5)\n",
            "Requirement already satisfied: Pillow<=6.2.2 in /usr/local/lib/python3.6/dist-packages (from mmdet==2.3.0rc0+adc65ff) (6.2.2)\n",
            "Requirement already satisfied: six in /usr/local/lib/python3.6/dist-packages (from mmdet==2.3.0rc0+adc65ff) (1.12.0)\n",
            "Requirement already satisfied: terminaltables in /usr/local/lib/python3.6/dist-packages (from mmdet==2.3.0rc0+adc65ff) (3.1.0)\n",
            "Requirement already satisfied: torch>=1.3 in /usr/local/lib/python3.6/dist-packages (from mmdet==2.3.0rc0+adc65ff) (1.5.1+cu101)\n",
            "Requirement already satisfied: torchvision in /usr/local/lib/python3.6/dist-packages (from mmdet==2.3.0rc0+adc65ff) (0.6.1+cu101)\n",
            "Requirement already satisfied: pycocotools@ git+https://github.com/open-mmlab/cocoapi.git#subdirectory=pycocotools from git+https://github.com/open-mmlab/cocoapi.git#subdirectory=pycocotools in /usr/local/lib/python3.6/dist-packages (from mmdet==2.3.0rc0+adc65ff) (2.0.1)\n",
            "Requirement already satisfied: pyparsing!=2.0.4,!=2.1.2,!=2.1.6,>=2.0.1 in /usr/local/lib/python3.6/dist-packages (from matplotlib->mmdet==2.3.0rc0+adc65ff) (2.4.7)\n",
            "Requirement already satisfied: cycler>=0.10 in /usr/local/lib/python3.6/dist-packages (from matplotlib->mmdet==2.3.0rc0+adc65ff) (0.10.0)\n",
            "Requirement already satisfied: kiwisolver>=1.0.1 in /usr/local/lib/python3.6/dist-packages (from matplotlib->mmdet==2.3.0rc0+adc65ff) (1.2.0)\n",
            "Requirement already satisfied: python-dateutil>=2.1 in /usr/local/lib/python3.6/dist-packages (from matplotlib->mmdet==2.3.0rc0+adc65ff) (2.8.1)\n",
            "Requirement already satisfied: future in /usr/local/lib/python3.6/dist-packages (from torch>=1.3->mmdet==2.3.0rc0+adc65ff) (0.16.0)\n",
            "Requirement already satisfied: cython>=0.27.3 in /usr/local/lib/python3.6/dist-packages (from pycocotools@ git+https://github.com/open-mmlab/cocoapi.git#subdirectory=pycocotools->mmdet==2.3.0rc0+adc65ff) (0.29.21)\n",
            "Requirement already satisfied: setuptools>=18.0 in /usr/local/lib/python3.6/dist-packages (from pycocotools@ git+https://github.com/open-mmlab/cocoapi.git#subdirectory=pycocotools->mmdet==2.3.0rc0+adc65ff) (49.1.0)\n",
            "Installing collected packages: mmdet\n",
            "  Found existing installation: mmdet 2.3.0rc0+adc65ff\n",
            "    Can't uninstall 'mmdet'. No files were found to uninstall.\n",
            "  Running setup.py develop for mmdet\n",
            "Successfully installed mmdet\n"
          ],
          "name": "stdout"
        }
      ]
    },
    {
      "cell_type": "code",
      "metadata": {
        "id": "JuwjcsqhHxlp",
        "colab_type": "code",
        "colab": {}
      },
      "source": [
        "import mmdet"
      ],
      "execution_count": 6,
      "outputs": []
    },
    {
      "cell_type": "code",
      "metadata": {
        "id": "FyjxXLRqIMgQ",
        "colab_type": "code",
        "colab": {
          "base_uri": "https://localhost:8080/",
          "height": 173
        },
        "outputId": "f66389f6-3d39-4170-c9fe-6ab471728896"
      },
      "source": [
        ""
      ],
      "execution_count": 7,
      "outputs": [
        {
          "output_type": "execute_result",
          "data": {
            "text/plain": [
              "['',\n",
              " '/env/python',\n",
              " '/usr/lib/python36.zip',\n",
              " '/usr/lib/python3.6',\n",
              " '/usr/lib/python3.6/lib-dynload',\n",
              " '/usr/local/lib/python3.6/dist-packages',\n",
              " '/usr/lib/python3/dist-packages',\n",
              " '/usr/local/lib/python3.6/dist-packages/IPython/extensions',\n",
              " '/root/.ipython']"
            ]
          },
          "metadata": {
            "tags": []
          },
          "execution_count": 7
        }
      ]
    },
    {
      "cell_type": "code",
      "metadata": {
        "id": "2vb9Kp-3IxJg",
        "colab_type": "code",
        "colab": {}
      },
      "source": [
        ""
      ],
      "execution_count": 5,
      "outputs": []
    },
    {
      "cell_type": "code",
      "metadata": {
        "id": "rlwYBYE0Kujv",
        "colab_type": "code",
        "colab": {}
      },
      "source": [
        ""
      ],
      "execution_count": 5,
      "outputs": []
    }
  ]
}